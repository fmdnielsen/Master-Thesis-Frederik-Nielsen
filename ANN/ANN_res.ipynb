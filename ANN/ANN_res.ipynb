{
 "cells": [
  {
   "cell_type": "code",
   "execution_count": 1,
   "id": "aeac97f3-65d1-45a8-89b7-37a2970bd1f9",
   "metadata": {
    "editable": true,
    "slideshow": {
     "slide_type": ""
    },
    "tags": []
   },
   "outputs": [],
   "source": [
    "#%% Import data and define categories\n",
    "import pandas as pd\n",
    "import numpy as np\n",
    "from skforecast.model_selection import backtesting_forecaster\n",
    "from sklearn.preprocessing import StandardScaler\n",
    "from sklearn.neural_network import MLPRegressor as ANN\n",
    "from skforecast.model_selection import grid_search_forecaster\n",
    "import time\n",
    "from skforecast.ForecasterAutoregCustom import ForecasterAutoregCustom\n",
    "from sklearn.compose import ColumnTransformer\n",
    "from sklearn.preprocessing import FunctionTransformer\n",
    "\n",
    "\n",
    "#For plot:\n",
    "import matplotlib.pyplot as plt\n",
    "import plotly.graph_objects as go\n",
    "import plotly.io as pio"
   ]
  },
  {
   "cell_type": "code",
   "execution_count": null,
   "id": "3c962a9e-5113-4cf3-8e8b-337a023ed6ac",
   "metadata": {
    "editable": true,
    "slideshow": {
     "slide_type": ""
    },
    "tags": [
     "parameters"
    ]
   },
   "outputs": [],
   "source": [
    "name = \"LSTM_error\""
   ]
  },
  {
   "cell_type": "code",
   "execution_count": null,
   "id": "17b902ff-b839-4665-8db1-821b34338b17",
   "metadata": {
    "editable": true,
    "slideshow": {
     "slide_type": ""
    },
    "tags": []
   },
   "outputs": [],
   "source": [
    "data_type = \"res\""
   ]
  },
  {
   "cell_type": "code",
   "execution_count": 2,
   "id": "00381679-65d7-43fe-9e8a-10397b4e8a70",
   "metadata": {},
   "outputs": [
    {
     "name": "stdout",
     "output_type": "stream",
     "text": [
      "Min Date: 01/01/2021 00:00\n",
      "Max Date: 31/12/2023 23:00\n"
     ]
    }
   ],
   "source": [
    "df = pd.read_csv(\"/work/Master project/data/data_7_clean.csv\")\n",
    "\n",
    "df = df\n",
    "df = df.set_index('date')\n",
    "\n",
    "num_cols = ['air_temp','humidity','solar_radiation','dew_point_temp']\n",
    "remainder_cols = ['hour_sin','hour_cos','week_sin','week_cos','month_sin','month_cos','day_of_the_week_sin','day_of_the_week_cos','is_weekend' ]\n",
    "\n",
    "print(\"Min Date:\", df.index.min())\n",
    "print(\"Max Date:\", df.index.max())"
   ]
  },
  {
   "cell_type": "code",
   "execution_count": 3,
   "id": "d11e84db-a162-4591-8bb0-ea7caf1d33d5",
   "metadata": {},
   "outputs": [
    {
     "name": "stdout",
     "output_type": "stream",
     "text": [
      "16056\n",
      "1465\n",
      "8761\n",
      "Train dates      : 2021-01-01 00:00:00 --- 2022-10-31 23:00:00  (n=16056)\n",
      "Validation dates : 2022-10-31 23:00:00 --- 2022-12-31 23:00:00  (n=1465)\n",
      "Test dates       : 2022-12-31 23:00:00 --- 2023-12-31 23:00:00  (n=8761)\n"
     ]
    }
   ],
   "source": [
    "\n",
    "df.index = pd.to_datetime(df.index, format='%d/%m/%Y %H:%M')\n",
    "data = df.loc['2021-01-01 00:00:00': '2023-12-31 23:00:00'].copy()\n",
    "data.index = pd.to_datetime(data.index)\n",
    "data = data.resample(\"H\").sum()\n",
    "\n",
    "# Choose colomns\n",
    "data = data[[\"electricity_cons\", \"hour_sin\", \"hour_cos\", 'day_of_the_week_sin','day_of_the_week_cos','is_weekend', 'month_cos', 'month_sin','week_sin','week_cos','air_temp','humidity','solar_radiation','dew_point_temp']]\n",
    "\n",
    "end_train = '2022-10-31 23:00:00'\n",
    "end_validation = '2022-12-31 23:00:00'\n",
    "\n",
    "data_train = data.loc[: end_train, :].copy()\n",
    "data_val   = data.loc[end_train:end_validation, :].copy()\n",
    "data_test  = data.loc[end_validation:, :].copy()\n",
    "\n",
    "print(len(data_train))\n",
    "print(len(data_val))\n",
    "print(len(data_test))\n",
    "\n",
    "\n",
    "print(f\"Train dates      : {data_train.index.min()} --- {data_train.index.max()}  (n={len(data_train)})\")\n",
    "print(f\"Validation dates : {data_val.index.min()} --- {data_val.index.max()}  (n={len(data_val)})\")\n",
    "print(f\"Test dates       : {data_test.index.min()} --- {data_test.index.max()}  (n={len(data_test)})\")\n",
    "\n",
    "data = data.resample(\"H\").sum()"
   ]
  },
  {
   "cell_type": "code",
   "execution_count": 4,
   "id": "ec5b05ff-83af-4dc7-9a11-654af0e04268",
   "metadata": {},
   "outputs": [],
   "source": [
    "Transform_exog = ColumnTransformer(\n",
    "    [('scale', StandardScaler(),['air_temp','humidity','solar_radiation','dew_point_temp'])\n",
    "    ],\n",
    "     remainder = 'passthrough'\n",
    "     )"
   ]
  },
  {
   "cell_type": "code",
   "execution_count": 5,
   "id": "458eaae6-edfc-4200-85df-372013bebf23",
   "metadata": {},
   "outputs": [],
   "source": [
    "def custom_predictors(y):\n",
    "    lags = y[[-1,-2,-3,-4,-5,-23,-24,-25,-47,-48,-49]]     # window size needed = 49\n",
    "    mean_24 = np.mean(y[-24:]) # window size needed = 24\n",
    "    mean_48 = np.mean(y[-48:]) # window size needed = 48\n",
    "    predictors = np.hstack([lags, mean_24, mean_48])\n",
    "    \n",
    "    return predictors"
   ]
  },
  {
   "cell_type": "code",
   "execution_count": 6,
   "id": "5affc6ec-c00b-4989-92eb-24c37e42301e",
   "metadata": {},
   "outputs": [],
   "source": [
    "forecaster = ForecasterAutoregCustom(\n",
    "                 regressor         = ANN(),\n",
    "                 fun_predictors    = custom_predictors,\n",
    "                 window_size       = 49,\n",
    "                 transformer_y     = StandardScaler(),\n",
    "                 transformer_exog  = Transform_exog,\n",
    "                 name_predictors   = [f'lag {i}' for i in range(1, 6)] + ['lag 23','lag 24','lag 25','lag 47','lag 48','lag 49','moving_avg_24','moving_avg_48'],\n",
    "                 differentiation   = 1\n",
    "             )"
   ]
  },
  {
   "cell_type": "code",
   "execution_count": 7,
   "id": "8f9508f9-9166-479a-ae53-ad46570a6c49",
   "metadata": {},
   "outputs": [
    {
     "name": "stdout",
     "output_type": "stream",
     "text": [
      "Number of models compared: 8.\n"
     ]
    },
    {
     "data": {
      "application/vnd.jupyter.widget-view+json": {
       "model_id": "4f9d50a6162e4afda81d6d8590e84272",
       "version_major": 2,
       "version_minor": 0
      },
      "text/plain": [
       "lags grid:   0%|          | 0/1 [00:00<?, ?it/s]"
      ]
     },
     "metadata": {},
     "output_type": "display_data"
    },
    {
     "data": {
      "application/vnd.jupyter.widget-view+json": {
       "model_id": "",
       "version_major": 2,
       "version_minor": 0
      },
      "text/plain": [
       "params grid:   0%|          | 0/8 [00:00<?, ?it/s]"
      ]
     },
     "metadata": {},
     "output_type": "display_data"
    },
    {
     "name": "stderr",
     "output_type": "stream",
     "text": [
      "/opt/conda/lib/python3.10/site-packages/skforecast/model_selection/model_selection.py:548: LongTrainingWarning: The forecaster will be fit 60 times. This can take substantial amounts of time. If not feasible, try with `refit = False`.\n",
      " \n",
      " You can suppress this warning using: warnings.simplefilter('ignore', category=LongTrainingWarning)\n",
      "  warnings.warn(\n",
      "/opt/conda/lib/python3.10/site-packages/skforecast/model_selection/model_selection.py:548: LongTrainingWarning: The forecaster will be fit 60 times. This can take substantial amounts of time. If not feasible, try with `refit = False`.\n",
      " \n",
      " You can suppress this warning using: warnings.simplefilter('ignore', category=LongTrainingWarning)\n",
      "  warnings.warn(\n",
      "/opt/conda/lib/python3.10/site-packages/skforecast/model_selection/model_selection.py:548: LongTrainingWarning: The forecaster will be fit 60 times. This can take substantial amounts of time. If not feasible, try with `refit = False`.\n",
      " \n",
      " You can suppress this warning using: warnings.simplefilter('ignore', category=LongTrainingWarning)\n",
      "  warnings.warn(\n",
      "/opt/conda/lib/python3.10/site-packages/skforecast/model_selection/model_selection.py:548: LongTrainingWarning: The forecaster will be fit 60 times. This can take substantial amounts of time. If not feasible, try with `refit = False`.\n",
      " \n",
      " You can suppress this warning using: warnings.simplefilter('ignore', category=LongTrainingWarning)\n",
      "  warnings.warn(\n",
      "/opt/conda/lib/python3.10/site-packages/skforecast/model_selection/model_selection.py:548: LongTrainingWarning: The forecaster will be fit 60 times. This can take substantial amounts of time. If not feasible, try with `refit = False`.\n",
      " \n",
      " You can suppress this warning using: warnings.simplefilter('ignore', category=LongTrainingWarning)\n",
      "  warnings.warn(\n",
      "/opt/conda/lib/python3.10/site-packages/skforecast/model_selection/model_selection.py:548: LongTrainingWarning: The forecaster will be fit 60 times. This can take substantial amounts of time. If not feasible, try with `refit = False`.\n",
      " \n",
      " You can suppress this warning using: warnings.simplefilter('ignore', category=LongTrainingWarning)\n",
      "  warnings.warn(\n",
      "/opt/conda/lib/python3.10/site-packages/skforecast/model_selection/model_selection.py:548: LongTrainingWarning: The forecaster will be fit 60 times. This can take substantial amounts of time. If not feasible, try with `refit = False`.\n",
      " \n",
      " You can suppress this warning using: warnings.simplefilter('ignore', category=LongTrainingWarning)\n",
      "  warnings.warn(\n",
      "/opt/conda/lib/python3.10/site-packages/skforecast/model_selection/model_selection.py:548: LongTrainingWarning: The forecaster will be fit 60 times. This can take substantial amounts of time. If not feasible, try with `refit = False`.\n",
      " \n",
      " You can suppress this warning using: warnings.simplefilter('ignore', category=LongTrainingWarning)\n",
      "  warnings.warn(\n"
     ]
    },
    {
     "name": "stdout",
     "output_type": "stream",
     "text": [
      "`Forecaster` refitted using the best-found lags and parameters, and the whole data set: \n",
      "  Lags: custom predictors \n",
      "  Parameters: {'activation': 'tanh', 'alpha': 0.002, 'hidden_layer_sizes': (150, 100, 50), 'learning_rate': 'adaptive', 'max_iter': 500, 'solver': 'sgd'}\n",
      "  Backtesting metric: 858.9130006023055\n",
      "\n"
     ]
    }
   ],
   "source": [
    "t0 = time.time()\n",
    "\n",
    "\n",
    "param_grid = {\n",
    "    'hidden_layer_sizes': [(50,50,50), (50,100,50), (100,)],\n",
    "    'activation': ['tanh', 'relu'],\n",
    "    'solver': ['sgd', 'adam'],\n",
    "    'alpha': [0.0001, 0.001, 0.01],\n",
    "    'learning_rate': ['constant', 'adaptive'],\n",
    "    'batch_size': [32, 64, 128],\n",
    "    'max_iter': [1000]\n",
    "}\n",
    "\n",
    "\n",
    "results_grid = grid_search_forecaster(\n",
    "                                   forecaster         = forecaster,\n",
    "                                   y                  = data.loc[: end_validation, 'electricity_cons'],\n",
    "                                   steps              = 24,\n",
    "                                   metric             = 'mean_squared_error',\n",
    "                                   exog               = data.loc[: end_validation, num_cols+remainder_cols],\n",
    "                                   param_grid         = param_grid,\n",
    "                                   initial_train_size = len(data_train)+12,\n",
    "                                   fixed_train_size   = True,\n",
    "                                   refit              = True,\n",
    "                                   gap                = 12,\n",
    "                                   return_best        = True,\n",
    "                                   n_jobs             = 'auto',\n",
    "                                   verbose            = False,\n",
    "                                   show_progress      = True\n",
    ")\n",
    "\n",
    "\n",
    "t1 = time.time()\n",
    "\n",
    "total = t1-t0"
   ]
  },
  {
   "cell_type": "code",
   "execution_count": 8,
   "id": "f2b9121b-2bb5-4516-be4f-70d17dd303d2",
   "metadata": {
    "editable": true,
    "slideshow": {
     "slide_type": ""
    },
    "tags": []
   },
   "outputs": [
    {
     "data": {
      "text/plain": [
       "date\n",
       "2021-01-03 02:00:00   -1.595478\n",
       "2021-01-03 03:00:00   -0.001164\n",
       "2021-01-03 04:00:00   -0.001090\n",
       "2021-01-03 05:00:00    0.006062\n",
       "2021-01-03 06:00:00    0.003157\n",
       "Freq: H, Name: y, dtype: float64"
      ]
     },
     "execution_count": 8,
     "metadata": {},
     "output_type": "execute_result"
    }
   ],
   "source": [
    "from skforecast.utils import save_forecaster\n",
    "from skforecast.utils import load_forecaster\n",
    "\n",
    "save_forecaster(forecaster, file_name='Models/{}'.format(name), verbose=False)\n",
    "\n",
    "\n",
    "X_train, y_train = forecaster.create_train_X_y(y=data.loc[:end_validation, 'electricity_cons'], exog=data.loc[:end_validation, num_cols+remainder_cols],)\n",
    "\n",
    "X_train.head(5)\n",
    "y_train.head(5)\n",
    "\n",
    "\n"
   ]
  },
  {
   "cell_type": "code",
   "execution_count": 9,
   "id": "0f7a34d8-8c6f-43bd-8b2b-144df873729b",
   "metadata": {},
   "outputs": [
    {
     "name": "stderr",
     "output_type": "stream",
     "text": [
      "/opt/conda/lib/python3.10/site-packages/skforecast/model_selection/model_selection.py:548: LongTrainingWarning: The forecaster will be fit 364 times. This can take substantial amounts of time. If not feasible, try with `refit = False`.\n",
      " \n",
      " You can suppress this warning using: warnings.simplefilter('ignore', category=LongTrainingWarning)\n",
      "  warnings.warn(\n"
     ]
    },
    {
     "data": {
      "application/vnd.jupyter.widget-view+json": {
       "model_id": "0964f0d994c644d595b3863687fe944b",
       "version_major": 2,
       "version_minor": 0
      },
      "text/plain": [
       "  0%|          | 0/364 [00:00<?, ?it/s]"
      ]
     },
     "metadata": {},
     "output_type": "display_data"
    },
    {
     "name": "stdout",
     "output_type": "stream",
     "text": [
      "Backtest error: 1149.49\n"
     ]
    },
    {
     "data": {
      "text/html": [
       "<div>\n",
       "<style scoped>\n",
       "    .dataframe tbody tr th:only-of-type {\n",
       "        vertical-align: middle;\n",
       "    }\n",
       "\n",
       "    .dataframe tbody tr th {\n",
       "        vertical-align: top;\n",
       "    }\n",
       "\n",
       "    .dataframe thead th {\n",
       "        text-align: right;\n",
       "    }\n",
       "</style>\n",
       "<table border=\"1\" class=\"dataframe\">\n",
       "  <thead>\n",
       "    <tr style=\"text-align: right;\">\n",
       "      <th></th>\n",
       "      <th>pred</th>\n",
       "    </tr>\n",
       "  </thead>\n",
       "  <tbody>\n",
       "    <tr>\n",
       "      <th>2023-01-02 00:00:00</th>\n",
       "      <td>133.886428</td>\n",
       "    </tr>\n",
       "    <tr>\n",
       "      <th>2023-01-02 01:00:00</th>\n",
       "      <td>113.208992</td>\n",
       "    </tr>\n",
       "    <tr>\n",
       "      <th>2023-01-02 02:00:00</th>\n",
       "      <td>72.424729</td>\n",
       "    </tr>\n",
       "    <tr>\n",
       "      <th>2023-01-02 03:00:00</th>\n",
       "      <td>58.214225</td>\n",
       "    </tr>\n",
       "    <tr>\n",
       "      <th>2023-01-02 04:00:00</th>\n",
       "      <td>61.217647</td>\n",
       "    </tr>\n",
       "  </tbody>\n",
       "</table>\n",
       "</div>"
      ],
      "text/plain": [
       "                           pred\n",
       "2023-01-02 00:00:00  133.886428\n",
       "2023-01-02 01:00:00  113.208992\n",
       "2023-01-02 02:00:00   72.424729\n",
       "2023-01-02 03:00:00   58.214225\n",
       "2023-01-02 04:00:00   61.217647"
      ]
     },
     "execution_count": 9,
     "metadata": {},
     "output_type": "execute_result"
    }
   ],
   "source": [
    "metric, predictions = backtesting_forecaster(\n",
    "                          forecaster            = forecaster,\n",
    "                          y                     = data['electricity_cons'],\n",
    "                          exog                  = data[num_cols+remainder_cols],\n",
    "                          steps                 = 24,\n",
    "                          metric                = 'mean_squared_error',\n",
    "                          initial_train_size    = len(data[:end_validation])+12,\n",
    "                          fixed_train_size      = True,\n",
    "                          gap                   = 12,\n",
    "                          allow_incomplete_fold = True,\n",
    "                          refit                 = True,\n",
    "                      #    interval              = [5, 95],\n",
    "                          n_jobs                = 'auto',\n",
    "                      #    n_boot                = 500,\n",
    "                          verbose               = False,\n",
    "                          show_progress         = True\n",
    "                      )\n",
    "\n",
    "print(f\"Backtest error: {metric:.2f}\")\n",
    "predictions.head()\n"
   ]
  },
  {
   "cell_type": "code",
   "execution_count": 10,
   "id": "a89f1be6-2f9f-49ee-9a83-d70ea84645b9",
   "metadata": {},
   "outputs": [],
   "source": [
    "#importance = forecaster.get_feature_importances()\n",
    "#importance.sort_values(by='importance', ascending=False)\n",
    "\n",
    "#varibles = forecaster.exog_col_names()\n"
   ]
  },
  {
   "cell_type": "code",
   "execution_count": 11,
   "id": "53eab442-4c7b-4502-b1ef-c0bf0d74183a",
   "metadata": {},
   "outputs": [],
   "source": [
    "def evaluate_forecast(actual, predicted):\n",
    "    scores = list()\n",
    "    \n",
    "\t# calculate an RMSE score for each hour\n",
    "    for i in range(actual.shape[1]):\n",
    "\t\t# calculate mse\n",
    "        mse = mean_squared_error(actual[:, i], predicted[:, i])\n",
    "\t\t# calculate rmse\n",
    "        rmse = sqrt(mse)\n",
    "\t\t# store (changede to mse since it otherwise would not make sense on the plot)\n",
    "        scores.append(rmse)\n",
    "    \n",
    "\t# calculate overall RMSE\n",
    "    sum = 0\n",
    "    for row in range(actual.shape[0]):\n",
    "        for col in range(actual.shape[1]):\n",
    "            sum += (actual[row, col] - predicted[row, col])**2\n",
    "    score = sqrt(sum / (actual.shape[0] * actual.shape[1]))\n",
    "    \n",
    "    # calculate error distribution\n",
    "    error_dist = np.zeros_like(actual, dtype=float)\n",
    "    for row in range(actual.shape[0]):\n",
    "        for col in range(actual.shape[1]):\n",
    "            squared_error = (actual[row, col] - predicted[row, col])**2\n",
    "            error_dist[row, col] = sqrt(squared_error)\n",
    "    return score, scores, error_dist"
   ]
  },
  {
   "cell_type": "code",
   "execution_count": 12,
   "id": "ec9e4e6c-4133-45a4-a148-35d81149ca7c",
   "metadata": {
    "editable": true,
    "slideshow": {
     "slide_type": ""
    },
    "tags": []
   },
   "outputs": [],
   "source": [
    "# evaluate performance\n",
    "def performance(name, score, scores):\n",
    " use_scores = ', '.join(['%.1f' % s for s in scores])\n",
    " print('%s: [%.3f] %s' % (name, score, use_scores))\n",
    "    \n",
    " # Creating a dictionary of the data\n",
    " data = {'Model': [name],\n",
    "        'Overall RMSE-score': [score]}\n",
    "\n",
    " # Dynamically create columns for scores\n",
    " data.update({f'RMSE Score {i}': [scores[i-1]] for i in range(1, 25)})\n",
    "\n",
    " # Creating a DataFrame from the dictionary\n",
    " df = pd.DataFrame(data)\n",
    "    \n",
    " # Appending the new data to the DataFrame\n",
    " df.to_csv('ANN_{}_output.csv'.format(data_type), mode='a', index=False, header=False)\n",
    "  \n"
   ]
  },
  {
   "cell_type": "code",
   "execution_count": 38,
   "id": "a10e7a53-c8dd-4218-9c5f-1eb9cdcbee44",
   "metadata": {
    "editable": true,
    "slideshow": {
     "slide_type": ""
    },
    "tags": []
   },
   "outputs": [
    {
     "name": "stdout",
     "output_type": "stream",
     "text": [
      "(8736,)\n",
      "(364, 24, 1)\n",
      "ANN_ind: [33.904] 23.6, 27.3, 34.7, 40.1, 40.6, 31.0, 27.8, 28.5, 32.0, 33.5, 36.5, 38.1, 37.2, 38.5, 35.2, 37.7, 35.9, 34.0, 33.2, 30.8, 31.5, 33.9, 33.8, 32.6\n",
      "======================= \n",
      "ForecasterAutoregCustom \n",
      "======================= \n",
      "Regressor: MLPRegressor(activation='tanh', alpha=0.002, hidden_layer_sizes=(150, 100, 50),\n",
      "             learning_rate='adaptive', max_iter=500, solver='sgd') \n",
      "Predictors created with function: custom_predictors \n",
      "Transformer for y: StandardScaler() \n",
      "Transformer for exog: ColumnTransformer(remainder='passthrough',\n",
      "                  transformers=[('scale', StandardScaler(),\n",
      "                                 ['air_temp', 'humidity', 'solar_radiation',\n",
      "                                  'dew_point_temp'])]) \n",
      "Window size: 50 \n",
      "Weight function included: False \n",
      "Differentiation order: 1 \n",
      "Exogenous included: True \n",
      "Type of exogenous variable: <class 'pandas.core.frame.DataFrame'> \n",
      "Exogenous variables names: ['air_temp', 'humidity', 'solar_radiation', 'dew_point_temp', 'hour_sin', 'hour_cos', 'week_sin', 'week_cos', 'month_sin', 'month_cos', 'day_of_the_week_sin', 'day_of_the_week_cos', 'is_weekend'] \n",
      "Training range: [Timestamp('2021-01-01 00:00:00'), Timestamp('2022-12-31 23:00:00')] \n",
      "Training index type: DatetimeIndex \n",
      "Training index frequency: H \n",
      "Regressor parameters: {'activation': 'tanh', 'alpha': 0.002, 'batch_size': 'auto', 'beta_1': 0.9, 'beta_2': 0.999, 'early_stopping': False, 'epsilon': 1e-08, 'hidden_layer_sizes': (150, 100, 50), 'learning_rate': 'adaptive', 'learning_rate_init': 0.001, 'max_fun': 15000, 'max_iter': 500, 'momentum': 0.9, 'n_iter_no_change': 10, 'nesterovs_momentum': True, 'power_t': 0.5, 'random_state': None, 'shuffle': True, 'solver': 'sgd', 'tol': 0.0001, 'validation_fraction': 0.1, 'verbose': False, 'warm_start': False} \n",
      "fit_kwargs: {} \n",
      "Creation date: 2024-04-07 14:55:29 \n",
      "Last fit date: 2024-04-07 15:13:58 \n",
      "Skforecast version: 0.11.0 \n",
      "Python version: 3.10.12 \n",
      "Forecaster id: None \n",
      "\n"
     ]
    },
    {
     "name": "stderr",
     "output_type": "stream",
     "text": [
      "/tmp/ipykernel_464/3449990880.py:18: DeprecationWarning: Conversion of an array with ndim > 0 to a scalar is deprecated, and will error in future. Ensure you extract a single element from your array before performing this operation. (Deprecated NumPy 1.25.)\n",
      "  score = sqrt(sum / (actual.shape[0] * actual.shape[1]))\n",
      "/tmp/ipykernel_464/3449990880.py:25: DeprecationWarning: Conversion of an array with ndim > 0 to a scalar is deprecated, and will error in future. Ensure you extract a single element from your array before performing this operation. (Deprecated NumPy 1.25.)\n",
      "  error_dist[row, col] = sqrt(squared_error)\n"
     ]
    }
   ],
   "source": [
    "from sklearn.metrics import mean_squared_error, mean_absolute_error, r2_score\n",
    "from math import sqrt\n",
    "\n",
    "\n",
    "#r2 = r2_score(data_test.loc['2023-01-02 00:00:00':,'electricity_cons'], predictions)\n",
    "\n",
    "\n",
    "#print('R-squared score: ', r2)\n",
    "\n",
    "\n",
    "actualss = data_test.loc['2023-01-02 00:00:00':,'electricity_cons']\n",
    "\n",
    "#predictions = predictions['pred']\n",
    "print(actualss.shape)\n",
    "actualss = np.array(np.split(actualss.values, len(actualss)/24))\n",
    "print(predictions.shape)\n",
    "predictions = np.array(np.split(predictions, len(predictions)/24))\n",
    "\n",
    "score, scores, error_dist = evaluate_forecast(actualss, predictions)\n",
    "\n",
    "\n",
    "\n",
    "# summarize scores\n",
    "performance(name, score, scores)\n",
    "\n",
    "\n",
    "df_error_dist = pd.DataFrame(error_dist)\n",
    "\n",
    "df_error_dist.to_csv('error_dist/{}_error_dist.csv'.format(name) , index=False)\n",
    "\n"
   ]
  },
  {
   "cell_type": "code",
   "execution_count": 27,
   "id": "61f69288-a396-48cf-990f-4bd1a077ddd7",
   "metadata": {
    "editable": true,
    "slideshow": {
     "slide_type": ""
    },
    "tags": []
   },
   "outputs": [
    {
     "name": "stderr",
     "output_type": "stream",
     "text": [
      "matplotlib.category INFO  Using categorical units to plot a list of strings that are all parsable as floats or dates. If these strings should be plotted as numbers, cast to the appropriate data type before plotting.\n",
      "matplotlib.category INFO  Using categorical units to plot a list of strings that are all parsable as floats or dates. If these strings should be plotted as numbers, cast to the appropriate data type before plotting.\n"
     ]
    },
    {
     "data": {
      "image/png": "[encoded data removed]",
      "text/plain": [
       "<Figure size 900x500 with 1 Axes>"
      ]
     },
     "metadata": {},
     "output_type": "display_data"
    }
   ],
   "source": [
    "# plot scores\n",
    "\n",
    "hours = ['00', '01', '02', '03', '04', '05', '06','07', '08', '09', '10', '11', '12', '13','14', '15', '16', '17', '18', '19', '20','21', '22', '23']\n",
    "plt.figure(figsize=(9, 5))\n",
    "\n",
    "boxplot_positions = np.arange(len(hours))\n",
    "# Add boxplots for each column in the error_dist array\n",
    "for col in range(error_dist.shape[1]):\n",
    "    boxplot_values = error_dist[:, col]\n",
    "    plt.boxplot(boxplot_values, positions=[col], widths=0.4, showfliers=False, patch_artist=True, medianprops=dict(color='black'))\n",
    "\n",
    "\n",
    "plt.plot(hours, scores, marker='o', label='lstm', color=\"red\")\n",
    "ax = plt.subplot(111)\n",
    "\n",
    "# set the basic lables\n",
    "ax.set_xlabel('Hours')\n",
    "ax.set_ylabel('RMSE')\n",
    "ax.set_title('Average hourly RMSE')\n",
    "\n",
    "# tweak the title\n",
    "ttl = ax.title\n",
    "ttl.set_weight('bold')\n",
    "\n",
    "# tweak the axis labels\n",
    "xlab = ax.xaxis.get_label()\n",
    "ylab = ax.yaxis.get_label()\n",
    "xlab.set_style('italic')\n",
    "xlab.set_size(10)\n",
    "ylab.set_style('italic')\n",
    "ylab.set_size(10)\n",
    "\n",
    "# grid on\n",
    "ax.grid('on', linestyle = \"--\", alpha=0.5)\n",
    "\n",
    "# color of plot, just to be sure\n",
    "ax.set_facecolor('xkcd:white')\n",
    "\n",
    "# change the color of the top and right spines to opaque gray\n",
    "ax.spines['right'].set_color((.8,.8,.8))\n",
    "ax.spines['top'].set_color((.8,.8,.8))\n",
    "\n",
    "\n",
    "plt.savefig('scores/{}.png'.format(name))\n",
    "plt.show()"
   ]
  },
  {
   "cell_type": "code",
   "execution_count": null,
   "id": "82ad5833-2b03-4a35-989e-5db38bab95bc",
   "metadata": {
    "editable": true,
    "slideshow": {
     "slide_type": ""
    },
    "tags": []
   },
   "outputs": [],
   "source": [
    "import datetime\n",
    "predictions = predictions.flatten()\n",
    "#predictions = predictions[:-12]\n",
    "\n",
    "actuals = actualss.flatten()\n",
    "#actuals = actuals[12:]\n",
    "result = pd.DataFrame({'preds': predictions, 'actuals': actuals})\n",
    "\n",
    "start_date = '2023-01-02 00:00:00'\n",
    "end_date = '2023-12-31 23:00:00'\n",
    "date_format = '%Y-%m-%d %H:%M:%S'\n",
    "\n",
    "\n",
    "# Create datetime index\n",
    "datetime_index = pd.date_range(start=start_date, end=end_date, freq='H')\n",
    "\n",
    "# Create DataFrame with datetime index, predictions, and actuals\n",
    "resultss = pd.DataFrame({'Datetime': datetime_index, 'Preds': predictions, 'Actuals': actuals})\n",
    "\n",
    "# Save DataFrame to CSV file\n",
    "resultss.to_csv('predictions/{}_predictions_actuals.csv'.format(name), index=False)\n",
    "\n",
    "\n",
    "\n",
    "\n",
    "\n",
    "\n",
    "start_datetime = datetime.datetime.strptime(start_date, date_format)\n",
    "end_datetime = datetime.datetime.strptime(end_date, date_format)\n",
    "\n",
    "date_range = pd.date_range(start=start_datetime, end=end_datetime, freq='H')\n",
    "\n",
    "result = result.set_index(date_range)\n",
    "\n",
    "fig = go.Figure([\n",
    "    go.Scatter(\n",
    "        name='Prediction',\n",
    "        x=result.index,\n",
    "        y=result[\"preds\"],\n",
    "        mode='lines',\n",
    "    ),\n",
    "    go.Scatter(\n",
    "        name='Real value',\n",
    "        x=result.index,\n",
    "        y=result[\"actuals\"],\n",
    "        mode='lines',\n",
    "     )\n",
    "])\n",
    "\n",
    "\n",
    "fig.update_layout(\n",
    "    title=\"Real value vs predicted in test data\",\n",
    "    xaxis_title=\"Date time\",\n",
    "    yaxis_title=\"Demand\",\n",
    "    plot_bgcolor='white',\n",
    "    width=800,\n",
    "    height=400,\n",
    "    margin=dict(l=20, r=20, t=35, b=20),\n",
    "    hovermode=\"x\",\n",
    "    legend=dict(\n",
    "        orientation=\"h\",\n",
    "        yanchor=\"top\",\n",
    "        y=1.1,\n",
    "        xanchor=\"left\",\n",
    "        x=0.001\n",
    "    ),\n",
    "    xaxis=dict(linecolor='black',showgrid=True, gridcolor='rgba(0, 0, 0, 0.3)',griddash='dash',mirror=True),\n",
    "    yaxis=dict(linecolor='black',showgrid=True, gridcolor='rgba(0, 0, 0, 0.3)',griddash='dash',mirror=True),\n",
    ")\n",
    "\n",
    "fig.show()\n",
    "fig.write_html('predictions/{}.html'.format(name), auto_open=True)\n"
   ]
  },
  {
   "cell_type": "code",
   "execution_count": null,
   "id": "e5bb30aa-fcd9-4b8c-bbac-1a40b376b09c",
   "metadata": {},
   "outputs": [],
   "source": [
    "#def f(X):\n",
    "#    return model.predict([X[:, i] for i in range(X.shape[1])]).flatten()"
   ]
  },
  {
   "cell_type": "code",
   "execution_count": null,
   "id": "9637c10e-b67d-43cf-abee-437298ca984d",
   "metadata": {},
   "outputs": [],
   "source": [
    "#import shap\n",
    "\n",
    "\n",
    "#model = ANN(activation= 'tanh', alpha= 0.05, hidden_layer_sizes = (100, 50, 30), learning_rate='adaptive', max_iter= 1000,solver= 'sgd')\n",
    "#model.fit(X_train, y_train)\n",
    "\n",
    "#explainer = shap.KernelExplainer(f, X_train.iloc[:100, :])\n",
    "#shap_values = explainer.shap_values(X_train.iloc[299, :], nsamples=500)\n",
    "#shap.force_plot(explainer.expected_value, shap_values, X_display.iloc[299, :])"
   ]
  },
  {
   "cell_type": "code",
   "execution_count": null,
   "id": "f6135776-ec5f-487b-95ba-18c53edd0251",
   "metadata": {},
   "outputs": [],
   "source": [
    "#shap.summary_plot(shap_values, X_train)"
   ]
  },
  {
   "cell_type": "code",
   "execution_count": null,
   "id": "b7f599fa-daa8-413f-b15c-ba139d8d4573",
   "metadata": {},
   "outputs": [],
   "source": []
  }
 ],
 "metadata": {
  "kernelspec": {
   "display_name": "Python 3 ",
   "language": "python",
   "name": "python3"
  },
  "language_info": {
   "codemirror_mode": {
    "name": "ipython",
    "version": 3
   },
   "file_extension": ".py",
   "mimetype": "text/x-python",
   "name": "python",
   "nbconvert_exporter": "python",
   "pygments_lexer": "ipython3",
   "version": "3.10.12"
  }
 },
 "nbformat": 4,
 "nbformat_minor": 5
}
