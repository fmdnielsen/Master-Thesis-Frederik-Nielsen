{
 "cells": [
  {
   "cell_type": "code",
   "execution_count": null,
   "id": "aeac97f3-65d1-45a8-89b7-37a2970bd1f9",
   "metadata": {
    "editable": true,
    "slideshow": {
     "slide_type": ""
    },
    "tags": []
   },
   "outputs": [],
   "source": [
    "#%% Import data and define categories\n",
    "import pandas as pd\n",
    "import numpy as np\n",
    "from skforecast.model_selection import backtesting_forecaster\n",
    "from sklearn.preprocessing import StandardScaler\n",
    "from sklearn.ensemble import RandomForestRegressor\n",
    "from skforecast.model_selection import bayesian_search_forecaster\n",
    "import time\n",
    "from skforecast.ForecasterAutoregCustom import ForecasterAutoregCustom\n",
    "from sklearn.compose import ColumnTransformer\n",
    "from math import sqrt\n",
    "\n",
    "#For plot:\n",
    "import matplotlib.pyplot as plt\n",
    "import plotly.graph_objects as go\n",
    "import plotly.io as pio"
   ]
  },
  {
   "cell_type": "code",
   "execution_count": null,
   "id": "c145aaae-2928-4b05-88c2-350cc0f4e825",
   "metadata": {
    "editable": true,
    "slideshow": {
     "slide_type": ""
    },
    "tags": [
     "parameters"
    ]
   },
   "outputs": [],
   "source": [
    "name = \"LSTM_error\""
   ]
  },
  {
   "cell_type": "code",
   "execution_count": null,
   "id": "6b39c5e1-faec-479c-aef4-6744c23df4b1",
   "metadata": {
    "editable": true,
    "slideshow": {
     "slide_type": ""
    },
    "tags": []
   },
   "outputs": [],
   "source": [
    "data_type = \"ind\""
   ]
  },
  {
   "cell_type": "code",
   "execution_count": null,
   "id": "00381679-65d7-43fe-9e8a-10397b4e8a70",
   "metadata": {
    "editable": true,
    "slideshow": {
     "slide_type": ""
    },
    "tags": []
   },
   "outputs": [],
   "source": [
    "df = pd.read_csv(\"/work/Master project/data/data_5_clean.csv\")\n",
    "\n",
    "df = df\n",
    "df = df.set_index('date')\n",
    "\n",
    "num_cols = ['air_temp','humidity','solar_radiation','dew_point_temp']\n",
    "remainder_cols = ['hour_sin','hour_cos','week_sin','week_cos','month_sin','month_cos','day_of_the_week_sin','day_of_the_week_cos','is_weekend' ]\n",
    "\n",
    "print(\"Min Date:\", df.index.min())\n",
    "print(\"Max Date:\", df.index.max())"
   ]
  },
  {
   "cell_type": "code",
   "execution_count": null,
   "id": "d11e84db-a162-4591-8bb0-ea7caf1d33d5",
   "metadata": {},
   "outputs": [],
   "source": [
    "\n",
    "df.index = pd.to_datetime(df.index, format='%d/%m/%Y %H:%M')\n",
    "data = df.loc['2021-01-01 00:00:00': '2023-12-31 23:00:00'].copy()\n",
    "data.index = pd.to_datetime(data.index)\n",
    "data = data.resample(\"H\").sum()\n",
    "\n",
    "# Choose colomns\n",
    "data = data[[\"electricity_cons\", \"hour_sin\", \"hour_cos\", 'day_of_the_week_sin','day_of_the_week_cos','is_weekend', 'month_cos', 'month_sin','week_sin','week_cos','air_temp','humidity','solar_radiation','dew_point_temp']]\n",
    "\n",
    "end_train = '2022-10-31 23:00:00'\n",
    "end_validation = '2022-12-31 23:00:00'\n",
    "\n",
    "data_train = data.loc[: end_train, :].copy()\n",
    "data_val   = data.loc[end_train:end_validation, :].copy()\n",
    "data_test  = data.loc[end_validation:, :].copy()\n",
    "\n",
    "print(len(data_train))\n",
    "print(len(data_val))\n",
    "print(len(data_test))\n",
    "\n",
    "#n_backtest = 365*24-12 # Last 9 years are used for backtest\n",
    "#data_train = X[:-n_backtest]\n",
    "#data_validate = \n",
    "#data_backtest = X[-n_backtest:]\n",
    "\n",
    "print(f\"Train dates      : {data_train.index.min()} --- {data_train.index.max()}  (n={len(data_train)})\")\n",
    "print(f\"Validation dates : {data_val.index.min()} --- {data_val.index.max()}  (n={len(data_val)})\")\n",
    "print(f\"Test dates       : {data_test.index.min()} --- {data_test.index.max()}  (n={len(data_test)})\")\n",
    "\n",
    "data = data.resample(\"H\").sum()"
   ]
  },
  {
   "cell_type": "code",
   "execution_count": null,
   "id": "ec5b05ff-83af-4dc7-9a11-654af0e04268",
   "metadata": {},
   "outputs": [],
   "source": [
    "Transform_exog = ColumnTransformer(\n",
    "    [('scale', StandardScaler(),['air_temp','humidity','solar_radiation','dew_point_temp'])\n",
    "    ],\n",
    "     remainder = 'passthrough'\n",
    "     )"
   ]
  },
  {
   "cell_type": "code",
   "execution_count": null,
   "id": "458eaae6-edfc-4200-85df-372013bebf23",
   "metadata": {},
   "outputs": [],
   "source": [
    "def custom_predictors(y):\n",
    "    lags = y[[-1,-2,-3,-4,-5,-23,-24,-25,-47,-48,-49]]     # window size needed = 49\n",
    "    mean_24 = np.mean(y[-24:]) # window size needed = 24\n",
    "    mean_48 = np.mean(y[-48:]) # window size needed = 48\n",
    "    predictors = np.hstack([lags, mean_24, mean_48])\n",
    "    \n",
    "    return predictors"
   ]
  },
  {
   "cell_type": "code",
   "execution_count": null,
   "id": "5affc6ec-c00b-4989-92eb-24c37e42301e",
   "metadata": {
    "editable": true,
    "slideshow": {
     "slide_type": ""
    },
    "tags": []
   },
   "outputs": [],
   "source": [
    "forecaster = ForecasterAutoregCustom(\n",
    "                 regressor         = RandomForestRegressor(),\n",
    "                 fun_predictors    = custom_predictors,\n",
    "                 window_size       = 49,\n",
    "                 transformer_y     = StandardScaler(),\n",
    "                 transformer_exog  = Transform_exog,\n",
    "                 name_predictors = [f'lag {i}' for i in range(1, 6)] + ['lag 23','lag 24','lag 25','lag 47','lag 48','lag 49','moving_avg_24','moving_avg_48'],\n",
    "             )"
   ]
  },
  {
   "cell_type": "code",
   "execution_count": null,
   "id": "8f9508f9-9166-479a-ae53-ad46570a6c49",
   "metadata": {},
   "outputs": [],
   "source": [
    "t0 = time.time()\n",
    "\n",
    "# Lags used as predictors\n",
    "#lags_grid = [24, [1, 2, 3, 23, 24, 25, 47, 48, 49]]\n",
    "\n",
    "# Regressor hyperparameters search space\n",
    "def search_space(trial):\n",
    "    search_space  = {\n",
    "        'n_estimators'  : trial.suggest_int('n_estimators', 40, 90, step= 10),\n",
    "        'max_depth'     : trial.suggest_int('max_depth', 4, 12, step=2),\n",
    "        'min_samples_leaf' : trial.suggest_int('min_samples_leaf', 2, 8, step=2),\n",
    "        'n_jobs' : trial.suggest_int('n_jobs', -1,-1),\n",
    "    } \n",
    "    return search_space\n",
    "\n",
    "\n",
    "results_search, frozen_trial = bayesian_search_forecaster(\n",
    "                                   forecaster         = forecaster,\n",
    "                                   y                  = data.loc[: end_validation, 'electricity_cons'],\n",
    "                                   steps              = 24,\n",
    "                                   metric             = 'mean_absolute_error',\n",
    "                                   exog               = data.loc[: end_validation, num_cols+remainder_cols],\n",
    "                                   search_space       = search_space,\n",
    "                                   initial_train_size = len(data_train)+12,\n",
    "                                   gap                = 12,\n",
    "                                   fixed_train_size   = True,\n",
    "                                   refit              = 1,\n",
    "                                   n_trials           = 10, # Increase for more exhaustive search\n",
    "                                   return_best        = True,\n",
    "                                   n_jobs             = -1,\n",
    "                                   verbose            = False,\n",
    "                                   show_progress      = True\n",
    ")\n",
    "\n",
    "\n",
    "t1 = time.time()\n",
    "\n",
    "total = t1-t0"
   ]
  },
  {
   "cell_type": "code",
   "execution_count": null,
   "id": "f2b9121b-2bb5-4516-be4f-70d17dd303d2",
   "metadata": {
    "editable": true,
    "slideshow": {
     "slide_type": ""
    },
    "tags": []
   },
   "outputs": [],
   "source": [
    "from skforecast.utils import save_forecaster\n",
    "from skforecast.utils import load_forecaster\n",
    "\n",
    "save_forecaster(forecaster, file_name='Models/{}'.format(name), verbose=False)\n",
    "\n",
    "X_train, y_train = forecaster.create_train_X_y(y=data.loc[:end_validation, 'electricity_cons'], exog=data.loc[:end_validation, num_cols+remainder_cols],)\n",
    "\n",
    "X_train.head(5)\n",
    "y_train.head(5)\n",
    "\n",
    "\n"
   ]
  },
  {
   "cell_type": "code",
   "execution_count": null,
   "id": "0f7a34d8-8c6f-43bd-8b2b-144df873729b",
   "metadata": {},
   "outputs": [],
   "source": [
    "metric, predictions = backtesting_forecaster(\n",
    "                          forecaster            = forecaster,\n",
    "                          y                     = data['electricity_cons'],\n",
    "                          exog                  = data[num_cols+remainder_cols],\n",
    "                          steps                 = 24,\n",
    "                          metric                = 'mean_absolute_error',\n",
    "                          initial_train_size    = len(data[:end_validation])+12,\n",
    "                          fixed_train_size      = True,\n",
    "                          gap                   = 12,\n",
    "                          allow_incomplete_fold = True,\n",
    "                          refit                 = 1,\n",
    "                       #   interval              = [5, 95],\n",
    "                          n_jobs                = 'auto',\n",
    "                        #  n_boot                = 100,\n",
    "                          verbose               = False,\n",
    "                          show_progress         = True\n",
    "                      )\n",
    "\n",
    "print(f\"Backtest error: {metric:.2f}\")\n",
    "predictions.head()\n"
   ]
  },
  {
   "cell_type": "code",
   "execution_count": null,
   "id": "32d65f67-c304-4d09-ae0f-83c2be8d1d54",
   "metadata": {},
   "outputs": [],
   "source": [
    "def evaluate_forecast(actual, predicted):\n",
    "    scores = list()\n",
    "    \n",
    "\t# calculate an RMSE score for each hour\n",
    "    for i in range(actual.shape[1]):\n",
    "\t\t# calculate mse\n",
    "        mse = mean_squared_error(actual[:, i], predicted[:, i])\n",
    "\t\t# calculate rmse\n",
    "        rmse = sqrt(mse)\n",
    "\t\t# store (changede to mse since it otherwise would not make sense on the plot)\n",
    "        scores.append(rmse)\n",
    "    \n",
    "\t# calculate overall RMSE\n",
    "    sum = 0\n",
    "    for row in range(actual.shape[0]):\n",
    "        for col in range(actual.shape[1]):\n",
    "            sum += (actual[row, col] - predicted[row, col])**2\n",
    "    score = sqrt(sum / (actual.shape[0] * actual.shape[1]))\n",
    "    \n",
    "    # calculate error distribution\n",
    "    error_dist = np.zeros_like(actual, dtype=float)\n",
    "    for row in range(actual.shape[0]):\n",
    "        for col in range(actual.shape[1]):\n",
    "            squared_error = (actual[row, col] - predicted[row, col])**2\n",
    "            error_dist[row, col] = sqrt(squared_error)\n",
    "    return score, scores, error_dist"
   ]
  },
  {
   "cell_type": "code",
   "execution_count": null,
   "id": "a79944ed-9922-4fac-974e-925d85d25a06",
   "metadata": {
    "editable": true,
    "slideshow": {
     "slide_type": ""
    },
    "tags": []
   },
   "outputs": [],
   "source": [
    "# evaluate performance\n",
    "def performance(name, score, scores):\n",
    " use_scores = ', '.join(['%.1f' % s for s in scores])\n",
    " print('%s: [%.3f] %s' % (name, score, use_scores))\n",
    "    \n",
    " # Creating a dictionary of the data\n",
    " data = {'Model': [name],\n",
    "        'Overall RMSE-score': [score]}\n",
    "\n",
    " # Dynamically create columns for scores\n",
    " data.update({f'RMSE Score {i}': [scores[i-1]] for i in range(1, 25)})\n",
    "\n",
    " # Creating a DataFrame from the dictionary\n",
    " df = pd.DataFrame(data)\n",
    "    \n",
    " # Appending the new data to the DataFrame\n",
    " df.to_csv('RF_output.csv', mode='a', index=False, header=False)\n",
    "  \n"
   ]
  },
  {
   "cell_type": "code",
   "execution_count": null,
   "id": "a89f1be6-2f9f-49ee-9a83-d70ea84645b9",
   "metadata": {},
   "outputs": [],
   "source": [
    "importance = forecaster.get_feature_importances()\n",
    "importance = importance.sort_values(by='importance', ascending=False)\n",
    "print(importance)\n",
    "#varibles = forecaster.exog_col_names()\n"
   ]
  },
  {
   "cell_type": "code",
   "execution_count": null,
   "id": "8d28decf-626c-4c33-bd8c-c19e5043413f",
   "metadata": {
    "editable": true,
    "slideshow": {
     "slide_type": ""
    },
    "tags": []
   },
   "outputs": [],
   "source": [
    "from sklearn.metrics import mean_squared_error, mean_absolute_error, r2_score\n",
    "\n",
    "\n",
    "#r2 = r2_score(data_test.loc['2023-01-02 00:00:00':,'electricity_cons'], predictions)\n",
    "\n",
    "\n",
    "#print('R-squared score: ', r2)\n",
    "\n",
    "\n",
    "actualss = data_test.loc['2023-01-02 00:00:00':,'electricity_cons']\n",
    "\n",
    "#predictions = predictions['pred']\n",
    "print(actualss.shape)\n",
    "actualss = np.array(np.split(actualss.values, len(actualss)/24))\n",
    "print(predictions.shape)\n",
    "predictions = np.array(np.split(predictions, len(predictions)/24))\n",
    "\n",
    "score, scores, error_dist = evaluate_forecast(actualss, predictions)\n",
    "\n",
    "\n",
    "\n",
    "# summarize scores\n",
    "performance(name, score, scores)\n",
    "\n",
    "\n",
    "df_error_dist = pd.DataFrame(error_dist)\n",
    "\n",
    "df_error_dist.to_csv('error_dist/{}_error_dist.csv'.format(name) , index=False)\n"
   ]
  },
  {
   "cell_type": "code",
   "execution_count": null,
   "id": "4997ac45-4295-4b65-8129-7ebf7e773d9b",
   "metadata": {
    "editable": true,
    "slideshow": {
     "slide_type": ""
    },
    "tags": []
   },
   "outputs": [],
   "source": [
    "# plot scores\n",
    "\n",
    "hours = ['00', '01', '02', '03', '04', '05', '06','07', '08', '09', '10', '11', '12', '13','14', '15', '16', '17', '18', '19', '20','21', '22', '23']\n",
    "plt.figure(figsize=(9, 5))\n",
    "\n",
    "boxplot_positions = np.arange(len(hours))\n",
    "# Add boxplots for each column in the error_dist array\n",
    "for col in range(error_dist.shape[1]):\n",
    "    boxplot_values = error_dist[:, col]\n",
    "    plt.boxplot(boxplot_values, positions=[col], widths=0.4, showfliers=False, patch_artist=True, medianprops=dict(color='black'))\n",
    "\n",
    "\n",
    "plt.plot(hours, scores, marker='o', label='lstm', color=\"red\")\n",
    "ax = plt.subplot(111)\n",
    "\n",
    "# set the basic lables\n",
    "ax.set_xlabel('Hours')\n",
    "ax.set_ylabel('RMSE')\n",
    "ax.set_title('Average hourly RMSE')\n",
    "\n",
    "# tweak the title\n",
    "ttl = ax.title\n",
    "ttl.set_weight('bold')\n",
    "\n",
    "# tweak the axis labels\n",
    "xlab = ax.xaxis.get_label()\n",
    "ylab = ax.yaxis.get_label()\n",
    "xlab.set_style('italic')\n",
    "xlab.set_size(10)\n",
    "ylab.set_style('italic')\n",
    "ylab.set_size(10)\n",
    "\n",
    "# grid on\n",
    "ax.grid('on', linestyle = \"--\", alpha=0.5)\n",
    "\n",
    "# color of plot, just to be sure\n",
    "ax.set_facecolor('xkcd:white')\n",
    "\n",
    "# change the color of the top and right spines to opaque gray\n",
    "ax.spines['right'].set_color((.8,.8,.8))\n",
    "ax.spines['top'].set_color((.8,.8,.8))\n",
    "\n",
    "\n",
    "plt.savefig('scores/{}.png'.format(name))\n",
    "plt.show()"
   ]
  },
  {
   "cell_type": "code",
   "execution_count": null,
   "id": "a2ef925d-ac4e-4a4d-984a-62bf95944b3c",
   "metadata": {
    "editable": true,
    "slideshow": {
     "slide_type": ""
    },
    "tags": []
   },
   "outputs": [],
   "source": [
    "import datetime\n",
    "predictions = predictions.flatten()\n",
    "#predictions = predictions[:-12]\n",
    "\n",
    "actuals = actualss.flatten()\n",
    "#actuals = actuals[12:]\n",
    "result = pd.DataFrame({'preds': predictions, 'actuals': actuals})\n",
    "\n",
    "start_date = '2023-01-02 00:00:00'\n",
    "end_date = '2023-12-31 23:00:00'\n",
    "date_format = '%Y-%m-%d %H:%M:%S'\n",
    "\n",
    "\n",
    "# Create datetime index\n",
    "datetime_index = pd.date_range(start=start_date, end=end_date, freq='H')\n",
    "\n",
    "# Create DataFrame with datetime index, predictions, and actuals\n",
    "resultss = pd.DataFrame({'Datetime': datetime_index, 'Preds': predictions, 'Actuals': actuals})\n",
    "\n",
    "# Save DataFrame to CSV file\n",
    "resultss.to_csv('predictions/{}_predictions_actuals.csv'.format(name), index=False)\n",
    "\n",
    "\n",
    "\n",
    "\n",
    "\n",
    "\n",
    "start_datetime = datetime.datetime.strptime(start_date, date_format)\n",
    "end_datetime = datetime.datetime.strptime(end_date, date_format)\n",
    "\n",
    "date_range = pd.date_range(start=start_datetime, end=end_datetime, freq='H')\n",
    "\n",
    "result = result.set_index(date_range)\n",
    "\n",
    "fig = go.Figure([\n",
    "    go.Scatter(\n",
    "        name='Prediction',\n",
    "        x=result.index,\n",
    "        y=result[\"preds\"],\n",
    "        mode='lines',\n",
    "    ),\n",
    "    go.Scatter(\n",
    "        name='Real value',\n",
    "        x=result.index,\n",
    "        y=result[\"actuals\"],\n",
    "        mode='lines',\n",
    "     )\n",
    "])\n",
    "\n",
    "\n",
    "fig.update_layout(\n",
    "    title=\"Real value vs predicted in test data\",\n",
    "    xaxis_title=\"Date time\",\n",
    "    yaxis_title=\"Demand\",\n",
    "    plot_bgcolor='white',\n",
    "    width=800,\n",
    "    height=400,\n",
    "    margin=dict(l=20, r=20, t=35, b=20),\n",
    "    hovermode=\"x\",\n",
    "    legend=dict(\n",
    "        orientation=\"h\",\n",
    "        yanchor=\"top\",\n",
    "        y=1.1,\n",
    "        xanchor=\"left\",\n",
    "        x=0.001\n",
    "    ),\n",
    "    xaxis=dict(linecolor='black',showgrid=True, gridcolor='rgba(0, 0, 0, 0.3)',griddash='dash',mirror=True),\n",
    "    yaxis=dict(linecolor='black',showgrid=True, gridcolor='rgba(0, 0, 0, 0.3)',griddash='dash',mirror=True),\n",
    ")\n",
    "\n",
    "fig.show()\n",
    "fig.write_html('predictions/{}.html'.format(name), auto_open=True)\n"
   ]
  },
  {
   "cell_type": "code",
   "execution_count": null,
   "id": "a5c7c20f-049c-4eaf-b325-b7d14c75854e",
   "metadata": {},
   "outputs": [],
   "source": []
  }
 ],
 "metadata": {
  "kernelspec": {
   "display_name": "Python 3 ",
   "language": "python",
   "name": "python3"
  },
  "language_info": {
   "codemirror_mode": {
    "name": "ipython",
    "version": 3
   },
   "file_extension": ".py",
   "mimetype": "text/x-python",
   "name": "python",
   "nbconvert_exporter": "python",
   "pygments_lexer": "ipython3",
   "version": "3.10.14"
  }
 },
 "nbformat": 4,
 "nbformat_minor": 5
}
